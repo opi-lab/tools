{
  "nbformat": 4,
  "nbformat_minor": 0,
  "metadata": {
    "colab": {
      "name": "Calibration_pattern_generation.ipynb",
      "provenance": [],
      "collapsed_sections": [],
      "authorship_tag": "ABX9TyPCpF+fkv+r+XsK9s5YaXh1",
      "include_colab_link": true
    },
    "kernelspec": {
      "name": "python3",
      "display_name": "Python 3"
    },
    "language_info": {
      "name": "python"
    }
  },
  "cells": [
    {
      "cell_type": "markdown",
      "metadata": {
        "id": "view-in-github",
        "colab_type": "text"
      },
      "source": [
        "<a href=\"https://colab.research.google.com/github/opi-lab/tools/blob/main/notebooks/Calibration_pattern_generation.ipynb\" target=\"_parent\"><img src=\"https://colab.research.google.com/assets/colab-badge.svg\" alt=\"Open In Colab\"/></a>"
      ]
    },
    {
      "cell_type": "markdown",
      "metadata": {
        "id": "BaULOaDGv-3l"
      },
      "source": [
        "## Generate the camera calibration pattern with Python\n",
        "\n",
        "Andrés G. Marrugo, 2021\n"
      ]
    },
    {
      "cell_type": "markdown",
      "metadata": {
        "id": "mjTPPIqewmoh"
      },
      "source": [
        "Verify that ``requests`` is installed."
      ]
    },
    {
      "cell_type": "code",
      "metadata": {
        "colab": {
          "base_uri": "https://localhost:8080/"
        },
        "id": "XZE6BgzZuPWZ",
        "outputId": "1f0069b8-4778-4bc0-ce75-6ed64fb60eeb"
      },
      "source": [
        "!pip install requests"
      ],
      "execution_count": 1,
      "outputs": [
        {
          "output_type": "stream",
          "text": [
            "Requirement already satisfied: requests in /usr/local/lib/python3.7/dist-packages (2.23.0)\n",
            "Requirement already satisfied: certifi>=2017.4.17 in /usr/local/lib/python3.7/dist-packages (from requests) (2021.5.30)\n",
            "Requirement already satisfied: chardet<4,>=3.0.2 in /usr/local/lib/python3.7/dist-packages (from requests) (3.0.4)\n",
            "Requirement already satisfied: idna<3,>=2.5 in /usr/local/lib/python3.7/dist-packages (from requests) (2.10)\n",
            "Requirement already satisfied: urllib3!=1.25.0,!=1.25.1,<1.26,>=1.21.1 in /usr/local/lib/python3.7/dist-packages (from requests) (1.24.3)\n"
          ],
          "name": "stdout"
        }
      ]
    },
    {
      "cell_type": "code",
      "metadata": {
        "id": "xCj1uostuSnS"
      },
      "source": [
        "import requests\n",
        "# Save gen_pattern and svgfig as file to colab working directory\n",
        "# If you are using GitHub, make sure you get the \"Raw\" version of the code\n",
        "url = 'https://raw.githubusercontent.com/opencv/opencv/master/doc/pattern_tools/gen_pattern.py'\n",
        "url2 = 'https://raw.githubusercontent.com/opencv/opencv/master/doc/pattern_tools/svgfig.py'\n",
        "\n",
        "r = requests.get(url)\n",
        "r2 = requests.get(url2)\n",
        "\n",
        "# make sure your filename is the same as how you want to import \n",
        "with open('gen_pattern.py', 'w') as f:\n",
        "  f.write(r.text)\n",
        "\n",
        "with open('svgfig.py', 'w') as f:\n",
        "  f.write(r2.text)"
      ],
      "execution_count": 10,
      "outputs": []
    },
    {
      "cell_type": "markdown",
      "metadata": {
        "id": "8a9nSDMUwwCv"
      },
      "source": [
        "Run ``gen_pattern.py`` with the page size, number of circles, type of pattern, etc."
      ]
    },
    {
      "cell_type": "code",
      "metadata": {
        "colab": {
          "base_uri": "https://localhost:8080/"
        },
        "id": "sLfba_ZPw_Tj",
        "outputId": "c7dc0205-9540-4b43-d165-7aa9267227c2"
      },
      "source": [
        "!head -n20 gen_pattern.py"
      ],
      "execution_count": 13,
      "outputs": [
        {
          "output_type": "stream",
          "text": [
            "#!/usr/bin/env python\n",
            "\n",
            "\"\"\"gen_pattern.py\n",
            "Usage example:\n",
            "python gen_pattern.py -o out.svg -r 11 -c 8 -T circles -s 20.0 -R 5.0 -u mm -w 216 -h 279\n",
            "-o, --output - output file (default out.svg)\n",
            "-r, --rows - pattern rows (default 11)\n",
            "-c, --columns - pattern columns (default 8)\n",
            "-T, --type - type of pattern, circles, acircles, checkerboard (default circles)\n",
            "-s, --square_size - size of squares in pattern (default 20.0)\n",
            "-R, --radius_rate - circles_radius = square_size/radius_rate (default 5.0)\n",
            "-u, --units - mm, inches, px, m (default mm)\n",
            "-w, --page_width - page width in units (default 216)\n",
            "-h, --page_height - page height in units (default 279)\n",
            "-a, --page_size - page size (default A4), supersedes -h -w arguments\n",
            "-H, --help - show help\n",
            "\"\"\"\n",
            "\n",
            "import argparse\n",
            "\n"
          ],
          "name": "stdout"
        }
      ]
    },
    {
      "cell_type": "code",
      "metadata": {
        "id": "H1PqHWyDuqI0"
      },
      "source": [
        "!python gen_pattern.py -o out.svg -r 21 -c 7 -T acircles -s 10 -R 2.5 -u mm -w 216 -h 279"
      ],
      "execution_count": 11,
      "outputs": []
    },
    {
      "cell_type": "code",
      "metadata": {
        "colab": {
          "base_uri": "https://localhost:8080/",
          "height": 1000
        },
        "id": "12cBP2VS8oR6",
        "outputId": "7d239ccb-fa69-4803-bc9b-612ad48507fd"
      },
      "source": [
        "from IPython.display import SVG\n",
        "SVG('out.svg')"
      ],
      "execution_count": 22,
      "outputs": [
        {
          "output_type": "execute_result",
          "data": {
            "text/plain": [
              "<IPython.core.display.SVG object>"
            ],
            "image/svg+xml": "<svg font-family=\"Helvetica, Arial, FreeSans, Sans, sans, sans-serif\" height=\"279mm\" style=\"stroke:black; fill:none; stroke-width:0.5pt; stroke-linejoin:round; text-anchor:middle\" version=\"1.1\" viewBox=\"0 0 216 279\" width=\"216mm\" xmlns=\"http://www.w3.org/2000/svg\" xmlns:xlink=\"http://www.w3.org/1999/xlink\">\n\n<g>\n\n<circle cx=\"43.0\" cy=\"39.5\" fill=\"black\" r=\"4.0\" stroke=\"none\"/>\n\n<circle cx=\"53.0\" cy=\"49.5\" fill=\"black\" r=\"4.0\" stroke=\"none\"/>\n\n<circle cx=\"43.0\" cy=\"59.5\" fill=\"black\" r=\"4.0\" stroke=\"none\"/>\n\n<circle cx=\"53.0\" cy=\"69.5\" fill=\"black\" r=\"4.0\" stroke=\"none\"/>\n\n<circle cx=\"43.0\" cy=\"79.5\" fill=\"black\" r=\"4.0\" stroke=\"none\"/>\n\n<circle cx=\"53.0\" cy=\"89.5\" fill=\"black\" r=\"4.0\" stroke=\"none\"/>\n\n<circle cx=\"43.0\" cy=\"99.5\" fill=\"black\" r=\"4.0\" stroke=\"none\"/>\n\n<circle cx=\"53.0\" cy=\"109.5\" fill=\"black\" r=\"4.0\" stroke=\"none\"/>\n\n<circle cx=\"43.0\" cy=\"119.5\" fill=\"black\" r=\"4.0\" stroke=\"none\"/>\n\n<circle cx=\"53.0\" cy=\"129.5\" fill=\"black\" r=\"4.0\" stroke=\"none\"/>\n\n<circle cx=\"43.0\" cy=\"139.5\" fill=\"black\" r=\"4.0\" stroke=\"none\"/>\n\n<circle cx=\"53.0\" cy=\"149.5\" fill=\"black\" r=\"4.0\" stroke=\"none\"/>\n\n<circle cx=\"43.0\" cy=\"159.5\" fill=\"black\" r=\"4.0\" stroke=\"none\"/>\n\n<circle cx=\"53.0\" cy=\"169.5\" fill=\"black\" r=\"4.0\" stroke=\"none\"/>\n\n<circle cx=\"43.0\" cy=\"179.5\" fill=\"black\" r=\"4.0\" stroke=\"none\"/>\n\n<circle cx=\"53.0\" cy=\"189.5\" fill=\"black\" r=\"4.0\" stroke=\"none\"/>\n\n<circle cx=\"43.0\" cy=\"199.5\" fill=\"black\" r=\"4.0\" stroke=\"none\"/>\n\n<circle cx=\"53.0\" cy=\"209.5\" fill=\"black\" r=\"4.0\" stroke=\"none\"/>\n\n<circle cx=\"43.0\" cy=\"219.5\" fill=\"black\" r=\"4.0\" stroke=\"none\"/>\n\n<circle cx=\"53.0\" cy=\"229.5\" fill=\"black\" r=\"4.0\" stroke=\"none\"/>\n\n<circle cx=\"43.0\" cy=\"239.5\" fill=\"black\" r=\"4.0\" stroke=\"none\"/>\n\n<circle cx=\"63.0\" cy=\"39.5\" fill=\"black\" r=\"4.0\" stroke=\"none\"/>\n\n<circle cx=\"73.0\" cy=\"49.5\" fill=\"black\" r=\"4.0\" stroke=\"none\"/>\n\n<circle cx=\"63.0\" cy=\"59.5\" fill=\"black\" r=\"4.0\" stroke=\"none\"/>\n\n<circle cx=\"73.0\" cy=\"69.5\" fill=\"black\" r=\"4.0\" stroke=\"none\"/>\n\n<circle cx=\"63.0\" cy=\"79.5\" fill=\"black\" r=\"4.0\" stroke=\"none\"/>\n\n<circle cx=\"73.0\" cy=\"89.5\" fill=\"black\" r=\"4.0\" stroke=\"none\"/>\n\n<circle cx=\"63.0\" cy=\"99.5\" fill=\"black\" r=\"4.0\" stroke=\"none\"/>\n\n<circle cx=\"73.0\" cy=\"109.5\" fill=\"black\" r=\"4.0\" stroke=\"none\"/>\n\n<circle cx=\"63.0\" cy=\"119.5\" fill=\"black\" r=\"4.0\" stroke=\"none\"/>\n\n<circle cx=\"73.0\" cy=\"129.5\" fill=\"black\" r=\"4.0\" stroke=\"none\"/>\n\n<circle cx=\"63.0\" cy=\"139.5\" fill=\"black\" r=\"4.0\" stroke=\"none\"/>\n\n<circle cx=\"73.0\" cy=\"149.5\" fill=\"black\" r=\"4.0\" stroke=\"none\"/>\n\n<circle cx=\"63.0\" cy=\"159.5\" fill=\"black\" r=\"4.0\" stroke=\"none\"/>\n\n<circle cx=\"73.0\" cy=\"169.5\" fill=\"black\" r=\"4.0\" stroke=\"none\"/>\n\n<circle cx=\"63.0\" cy=\"179.5\" fill=\"black\" r=\"4.0\" stroke=\"none\"/>\n\n<circle cx=\"73.0\" cy=\"189.5\" fill=\"black\" r=\"4.0\" stroke=\"none\"/>\n\n<circle cx=\"63.0\" cy=\"199.5\" fill=\"black\" r=\"4.0\" stroke=\"none\"/>\n\n<circle cx=\"73.0\" cy=\"209.5\" fill=\"black\" r=\"4.0\" stroke=\"none\"/>\n\n<circle cx=\"63.0\" cy=\"219.5\" fill=\"black\" r=\"4.0\" stroke=\"none\"/>\n\n<circle cx=\"73.0\" cy=\"229.5\" fill=\"black\" r=\"4.0\" stroke=\"none\"/>\n\n<circle cx=\"63.0\" cy=\"239.5\" fill=\"black\" r=\"4.0\" stroke=\"none\"/>\n\n<circle cx=\"83.0\" cy=\"39.5\" fill=\"black\" r=\"4.0\" stroke=\"none\"/>\n\n<circle cx=\"93.0\" cy=\"49.5\" fill=\"black\" r=\"4.0\" stroke=\"none\"/>\n\n<circle cx=\"83.0\" cy=\"59.5\" fill=\"black\" r=\"4.0\" stroke=\"none\"/>\n\n<circle cx=\"93.0\" cy=\"69.5\" fill=\"black\" r=\"4.0\" stroke=\"none\"/>\n\n<circle cx=\"83.0\" cy=\"79.5\" fill=\"black\" r=\"4.0\" stroke=\"none\"/>\n\n<circle cx=\"93.0\" cy=\"89.5\" fill=\"black\" r=\"4.0\" stroke=\"none\"/>\n\n<circle cx=\"83.0\" cy=\"99.5\" fill=\"black\" r=\"4.0\" stroke=\"none\"/>\n\n<circle cx=\"93.0\" cy=\"109.5\" fill=\"black\" r=\"4.0\" stroke=\"none\"/>\n\n<circle cx=\"83.0\" cy=\"119.5\" fill=\"black\" r=\"4.0\" stroke=\"none\"/>\n\n<circle cx=\"93.0\" cy=\"129.5\" fill=\"black\" r=\"4.0\" stroke=\"none\"/>\n\n<circle cx=\"83.0\" cy=\"139.5\" fill=\"black\" r=\"4.0\" stroke=\"none\"/>\n\n<circle cx=\"93.0\" cy=\"149.5\" fill=\"black\" r=\"4.0\" stroke=\"none\"/>\n\n<circle cx=\"83.0\" cy=\"159.5\" fill=\"black\" r=\"4.0\" stroke=\"none\"/>\n\n<circle cx=\"93.0\" cy=\"169.5\" fill=\"black\" r=\"4.0\" stroke=\"none\"/>\n\n<circle cx=\"83.0\" cy=\"179.5\" fill=\"black\" r=\"4.0\" stroke=\"none\"/>\n\n<circle cx=\"93.0\" cy=\"189.5\" fill=\"black\" r=\"4.0\" stroke=\"none\"/>\n\n<circle cx=\"83.0\" cy=\"199.5\" fill=\"black\" r=\"4.0\" stroke=\"none\"/>\n\n<circle cx=\"93.0\" cy=\"209.5\" fill=\"black\" r=\"4.0\" stroke=\"none\"/>\n\n<circle cx=\"83.0\" cy=\"219.5\" fill=\"black\" r=\"4.0\" stroke=\"none\"/>\n\n<circle cx=\"93.0\" cy=\"229.5\" fill=\"black\" r=\"4.0\" stroke=\"none\"/>\n\n<circle cx=\"83.0\" cy=\"239.5\" fill=\"black\" r=\"4.0\" stroke=\"none\"/>\n\n<circle cx=\"103.0\" cy=\"39.5\" fill=\"black\" r=\"4.0\" stroke=\"none\"/>\n\n<circle cx=\"113.0\" cy=\"49.5\" fill=\"black\" r=\"4.0\" stroke=\"none\"/>\n\n<circle cx=\"103.0\" cy=\"59.5\" fill=\"black\" r=\"4.0\" stroke=\"none\"/>\n\n<circle cx=\"113.0\" cy=\"69.5\" fill=\"black\" r=\"4.0\" stroke=\"none\"/>\n\n<circle cx=\"103.0\" cy=\"79.5\" fill=\"black\" r=\"4.0\" stroke=\"none\"/>\n\n<circle cx=\"113.0\" cy=\"89.5\" fill=\"black\" r=\"4.0\" stroke=\"none\"/>\n\n<circle cx=\"103.0\" cy=\"99.5\" fill=\"black\" r=\"4.0\" stroke=\"none\"/>\n\n<circle cx=\"113.0\" cy=\"109.5\" fill=\"black\" r=\"4.0\" stroke=\"none\"/>\n\n<circle cx=\"103.0\" cy=\"119.5\" fill=\"black\" r=\"4.0\" stroke=\"none\"/>\n\n<circle cx=\"113.0\" cy=\"129.5\" fill=\"black\" r=\"4.0\" stroke=\"none\"/>\n\n<circle cx=\"103.0\" cy=\"139.5\" fill=\"black\" r=\"4.0\" stroke=\"none\"/>\n\n<circle cx=\"113.0\" cy=\"149.5\" fill=\"black\" r=\"4.0\" stroke=\"none\"/>\n\n<circle cx=\"103.0\" cy=\"159.5\" fill=\"black\" r=\"4.0\" stroke=\"none\"/>\n\n<circle cx=\"113.0\" cy=\"169.5\" fill=\"black\" r=\"4.0\" stroke=\"none\"/>\n\n<circle cx=\"103.0\" cy=\"179.5\" fill=\"black\" r=\"4.0\" stroke=\"none\"/>\n\n<circle cx=\"113.0\" cy=\"189.5\" fill=\"black\" r=\"4.0\" stroke=\"none\"/>\n\n<circle cx=\"103.0\" cy=\"199.5\" fill=\"black\" r=\"4.0\" stroke=\"none\"/>\n\n<circle cx=\"113.0\" cy=\"209.5\" fill=\"black\" r=\"4.0\" stroke=\"none\"/>\n\n<circle cx=\"103.0\" cy=\"219.5\" fill=\"black\" r=\"4.0\" stroke=\"none\"/>\n\n<circle cx=\"113.0\" cy=\"229.5\" fill=\"black\" r=\"4.0\" stroke=\"none\"/>\n\n<circle cx=\"103.0\" cy=\"239.5\" fill=\"black\" r=\"4.0\" stroke=\"none\"/>\n\n<circle cx=\"123.0\" cy=\"39.5\" fill=\"black\" r=\"4.0\" stroke=\"none\"/>\n\n<circle cx=\"133.0\" cy=\"49.5\" fill=\"black\" r=\"4.0\" stroke=\"none\"/>\n\n<circle cx=\"123.0\" cy=\"59.5\" fill=\"black\" r=\"4.0\" stroke=\"none\"/>\n\n<circle cx=\"133.0\" cy=\"69.5\" fill=\"black\" r=\"4.0\" stroke=\"none\"/>\n\n<circle cx=\"123.0\" cy=\"79.5\" fill=\"black\" r=\"4.0\" stroke=\"none\"/>\n\n<circle cx=\"133.0\" cy=\"89.5\" fill=\"black\" r=\"4.0\" stroke=\"none\"/>\n\n<circle cx=\"123.0\" cy=\"99.5\" fill=\"black\" r=\"4.0\" stroke=\"none\"/>\n\n<circle cx=\"133.0\" cy=\"109.5\" fill=\"black\" r=\"4.0\" stroke=\"none\"/>\n\n<circle cx=\"123.0\" cy=\"119.5\" fill=\"black\" r=\"4.0\" stroke=\"none\"/>\n\n<circle cx=\"133.0\" cy=\"129.5\" fill=\"black\" r=\"4.0\" stroke=\"none\"/>\n\n<circle cx=\"123.0\" cy=\"139.5\" fill=\"black\" r=\"4.0\" stroke=\"none\"/>\n\n<circle cx=\"133.0\" cy=\"149.5\" fill=\"black\" r=\"4.0\" stroke=\"none\"/>\n\n<circle cx=\"123.0\" cy=\"159.5\" fill=\"black\" r=\"4.0\" stroke=\"none\"/>\n\n<circle cx=\"133.0\" cy=\"169.5\" fill=\"black\" r=\"4.0\" stroke=\"none\"/>\n\n<circle cx=\"123.0\" cy=\"179.5\" fill=\"black\" r=\"4.0\" stroke=\"none\"/>\n\n<circle cx=\"133.0\" cy=\"189.5\" fill=\"black\" r=\"4.0\" stroke=\"none\"/>\n\n<circle cx=\"123.0\" cy=\"199.5\" fill=\"black\" r=\"4.0\" stroke=\"none\"/>\n\n<circle cx=\"133.0\" cy=\"209.5\" fill=\"black\" r=\"4.0\" stroke=\"none\"/>\n\n<circle cx=\"123.0\" cy=\"219.5\" fill=\"black\" r=\"4.0\" stroke=\"none\"/>\n\n<circle cx=\"133.0\" cy=\"229.5\" fill=\"black\" r=\"4.0\" stroke=\"none\"/>\n\n<circle cx=\"123.0\" cy=\"239.5\" fill=\"black\" r=\"4.0\" stroke=\"none\"/>\n\n<circle cx=\"143.0\" cy=\"39.5\" fill=\"black\" r=\"4.0\" stroke=\"none\"/>\n\n<circle cx=\"153.0\" cy=\"49.5\" fill=\"black\" r=\"4.0\" stroke=\"none\"/>\n\n<circle cx=\"143.0\" cy=\"59.5\" fill=\"black\" r=\"4.0\" stroke=\"none\"/>\n\n<circle cx=\"153.0\" cy=\"69.5\" fill=\"black\" r=\"4.0\" stroke=\"none\"/>\n\n<circle cx=\"143.0\" cy=\"79.5\" fill=\"black\" r=\"4.0\" stroke=\"none\"/>\n\n<circle cx=\"153.0\" cy=\"89.5\" fill=\"black\" r=\"4.0\" stroke=\"none\"/>\n\n<circle cx=\"143.0\" cy=\"99.5\" fill=\"black\" r=\"4.0\" stroke=\"none\"/>\n\n<circle cx=\"153.0\" cy=\"109.5\" fill=\"black\" r=\"4.0\" stroke=\"none\"/>\n\n<circle cx=\"143.0\" cy=\"119.5\" fill=\"black\" r=\"4.0\" stroke=\"none\"/>\n\n<circle cx=\"153.0\" cy=\"129.5\" fill=\"black\" r=\"4.0\" stroke=\"none\"/>\n\n<circle cx=\"143.0\" cy=\"139.5\" fill=\"black\" r=\"4.0\" stroke=\"none\"/>\n\n<circle cx=\"153.0\" cy=\"149.5\" fill=\"black\" r=\"4.0\" stroke=\"none\"/>\n\n<circle cx=\"143.0\" cy=\"159.5\" fill=\"black\" r=\"4.0\" stroke=\"none\"/>\n\n<circle cx=\"153.0\" cy=\"169.5\" fill=\"black\" r=\"4.0\" stroke=\"none\"/>\n\n<circle cx=\"143.0\" cy=\"179.5\" fill=\"black\" r=\"4.0\" stroke=\"none\"/>\n\n<circle cx=\"153.0\" cy=\"189.5\" fill=\"black\" r=\"4.0\" stroke=\"none\"/>\n\n<circle cx=\"143.0\" cy=\"199.5\" fill=\"black\" r=\"4.0\" stroke=\"none\"/>\n\n<circle cx=\"153.0\" cy=\"209.5\" fill=\"black\" r=\"4.0\" stroke=\"none\"/>\n\n<circle cx=\"143.0\" cy=\"219.5\" fill=\"black\" r=\"4.0\" stroke=\"none\"/>\n\n<circle cx=\"153.0\" cy=\"229.5\" fill=\"black\" r=\"4.0\" stroke=\"none\"/>\n\n<circle cx=\"143.0\" cy=\"239.5\" fill=\"black\" r=\"4.0\" stroke=\"none\"/>\n\n<circle cx=\"163.0\" cy=\"39.5\" fill=\"black\" r=\"4.0\" stroke=\"none\"/>\n\n<circle cx=\"173.0\" cy=\"49.5\" fill=\"black\" r=\"4.0\" stroke=\"none\"/>\n\n<circle cx=\"163.0\" cy=\"59.5\" fill=\"black\" r=\"4.0\" stroke=\"none\"/>\n\n<circle cx=\"173.0\" cy=\"69.5\" fill=\"black\" r=\"4.0\" stroke=\"none\"/>\n\n<circle cx=\"163.0\" cy=\"79.5\" fill=\"black\" r=\"4.0\" stroke=\"none\"/>\n\n<circle cx=\"173.0\" cy=\"89.5\" fill=\"black\" r=\"4.0\" stroke=\"none\"/>\n\n<circle cx=\"163.0\" cy=\"99.5\" fill=\"black\" r=\"4.0\" stroke=\"none\"/>\n\n<circle cx=\"173.0\" cy=\"109.5\" fill=\"black\" r=\"4.0\" stroke=\"none\"/>\n\n<circle cx=\"163.0\" cy=\"119.5\" fill=\"black\" r=\"4.0\" stroke=\"none\"/>\n\n<circle cx=\"173.0\" cy=\"129.5\" fill=\"black\" r=\"4.0\" stroke=\"none\"/>\n\n<circle cx=\"163.0\" cy=\"139.5\" fill=\"black\" r=\"4.0\" stroke=\"none\"/>\n\n<circle cx=\"173.0\" cy=\"149.5\" fill=\"black\" r=\"4.0\" stroke=\"none\"/>\n\n<circle cx=\"163.0\" cy=\"159.5\" fill=\"black\" r=\"4.0\" stroke=\"none\"/>\n\n<circle cx=\"173.0\" cy=\"169.5\" fill=\"black\" r=\"4.0\" stroke=\"none\"/>\n\n<circle cx=\"163.0\" cy=\"179.5\" fill=\"black\" r=\"4.0\" stroke=\"none\"/>\n\n<circle cx=\"173.0\" cy=\"189.5\" fill=\"black\" r=\"4.0\" stroke=\"none\"/>\n\n<circle cx=\"163.0\" cy=\"199.5\" fill=\"black\" r=\"4.0\" stroke=\"none\"/>\n\n<circle cx=\"173.0\" cy=\"209.5\" fill=\"black\" r=\"4.0\" stroke=\"none\"/>\n\n<circle cx=\"163.0\" cy=\"219.5\" fill=\"black\" r=\"4.0\" stroke=\"none\"/>\n\n<circle cx=\"173.0\" cy=\"229.5\" fill=\"black\" r=\"4.0\" stroke=\"none\"/>\n\n<circle cx=\"163.0\" cy=\"239.5\" fill=\"black\" r=\"4.0\" stroke=\"none\"/>\n\n</g>\n\n</svg>"
          },
          "metadata": {
            "tags": []
          },
          "execution_count": 22
        }
      ]
    },
    {
      "cell_type": "code",
      "metadata": {
        "colab": {
          "base_uri": "https://localhost:8080/",
          "height": 34
        },
        "id": "Z3Ipp0eky9NV",
        "outputId": "a5f149a7-7298-49a1-d65c-c9b6630551ab"
      },
      "source": [
        "# Download it \n",
        "# Only works on Chrome, else download from the menu\n",
        "try:\n",
        "  from google.colab import files\n",
        "  files.download('out.svg')\n",
        "except:\n",
        "  print('Download manually from the menu.')"
      ],
      "execution_count": 23,
      "outputs": [
        {
          "output_type": "display_data",
          "data": {
            "application/javascript": [
              "\n",
              "    async function download(id, filename, size) {\n",
              "      if (!google.colab.kernel.accessAllowed) {\n",
              "        return;\n",
              "      }\n",
              "      const div = document.createElement('div');\n",
              "      const label = document.createElement('label');\n",
              "      label.textContent = `Downloading \"${filename}\": `;\n",
              "      div.appendChild(label);\n",
              "      const progress = document.createElement('progress');\n",
              "      progress.max = size;\n",
              "      div.appendChild(progress);\n",
              "      document.body.appendChild(div);\n",
              "\n",
              "      const buffers = [];\n",
              "      let downloaded = 0;\n",
              "\n",
              "      const channel = await google.colab.kernel.comms.open(id);\n",
              "      // Send a message to notify the kernel that we're ready.\n",
              "      channel.send({})\n",
              "\n",
              "      for await (const message of channel.messages) {\n",
              "        // Send a message to notify the kernel that we're ready.\n",
              "        channel.send({})\n",
              "        if (message.buffers) {\n",
              "          for (const buffer of message.buffers) {\n",
              "            buffers.push(buffer);\n",
              "            downloaded += buffer.byteLength;\n",
              "            progress.value = downloaded;\n",
              "          }\n",
              "        }\n",
              "      }\n",
              "      const blob = new Blob(buffers, {type: 'application/binary'});\n",
              "      const a = document.createElement('a');\n",
              "      a.href = window.URL.createObjectURL(blob);\n",
              "      a.download = filename;\n",
              "      div.appendChild(a);\n",
              "      a.click();\n",
              "      div.remove();\n",
              "    }\n",
              "  "
            ],
            "text/plain": [
              "<IPython.core.display.Javascript object>"
            ]
          },
          "metadata": {
            "tags": []
          }
        },
        {
          "output_type": "display_data",
          "data": {
            "application/javascript": [
              "download(\"download_f65b6ed1-e828-4053-9676-b10ccd5af053\", \"out.svg\", 10515)"
            ],
            "text/plain": [
              "<IPython.core.display.Javascript object>"
            ]
          },
          "metadata": {
            "tags": []
          }
        }
      ]
    },
    {
      "cell_type": "markdown",
      "metadata": {
        "id": "yqd4xAD2xYRw"
      },
      "source": [
        "Download out.svg -> import to inkscape -> invert colors to get the white cirlces with black background pattern."
      ]
    }
  ]
}