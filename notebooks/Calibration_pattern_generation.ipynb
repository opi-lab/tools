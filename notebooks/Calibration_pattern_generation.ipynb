{
  "nbformat": 4,
  "nbformat_minor": 0,
  "metadata": {
    "colab": {
      "name": "Calibration_pattern_generation.ipynb",
      "provenance": [],
      "collapsed_sections": [],
      "authorship_tag": "ABX9TyObp9Ja0qu99xw8tQZTwP3k",
      "include_colab_link": true
    },
    "kernelspec": {
      "name": "python3",
      "display_name": "Python 3"
    },
    "language_info": {
      "name": "python"
    }
  },
  "cells": [
    {
      "cell_type": "markdown",
      "metadata": {
        "id": "view-in-github",
        "colab_type": "text"
      },
      "source": [
        "<a href=\"https://colab.research.google.com/github/opi-lab/tools/blob/main/notebooks/Calibration_pattern_generation.ipynb\" target=\"_parent\"><img src=\"https://colab.research.google.com/assets/colab-badge.svg\" alt=\"Open In Colab\"/></a>"
      ]
    },
    {
      "cell_type": "markdown",
      "metadata": {
        "id": "BaULOaDGv-3l"
      },
      "source": [
        "## Generate the camera calibration pattern with Python\n",
        "\n",
        "Andrés G. Marrugo, 2021\n"
      ]
    },
    {
      "cell_type": "markdown",
      "metadata": {
        "id": "mjTPPIqewmoh"
      },
      "source": [
        "Verify that ``requests`` is installed."
      ]
    },
    {
      "cell_type": "code",
      "metadata": {
        "colab": {
          "base_uri": "https://localhost:8080/"
        },
        "id": "XZE6BgzZuPWZ",
        "outputId": "1f0069b8-4778-4bc0-ce75-6ed64fb60eeb"
      },
      "source": [
        "!pip install requests"
      ],
      "execution_count": 1,
      "outputs": [
        {
          "output_type": "stream",
          "text": [
            "Requirement already satisfied: requests in /usr/local/lib/python3.7/dist-packages (2.23.0)\n",
            "Requirement already satisfied: certifi>=2017.4.17 in /usr/local/lib/python3.7/dist-packages (from requests) (2021.5.30)\n",
            "Requirement already satisfied: chardet<4,>=3.0.2 in /usr/local/lib/python3.7/dist-packages (from requests) (3.0.4)\n",
            "Requirement already satisfied: idna<3,>=2.5 in /usr/local/lib/python3.7/dist-packages (from requests) (2.10)\n",
            "Requirement already satisfied: urllib3!=1.25.0,!=1.25.1,<1.26,>=1.21.1 in /usr/local/lib/python3.7/dist-packages (from requests) (1.24.3)\n"
          ],
          "name": "stdout"
        }
      ]
    },
    {
      "cell_type": "code",
      "metadata": {
        "id": "xCj1uostuSnS"
      },
      "source": [
        "import requests\n",
        "# Save gen_pattern and svgfig as file to colab working directory\n",
        "# If you are using GitHub, make sure you get the \"Raw\" version of the code\n",
        "url = 'https://raw.githubusercontent.com/opencv/opencv/master/doc/pattern_tools/gen_pattern.py'\n",
        "url2 = 'https://raw.githubusercontent.com/opencv/opencv/master/doc/pattern_tools/svgfig.py'\n",
        "\n",
        "r = requests.get(url)\n",
        "r2 = requests.get(url2)\n",
        "\n",
        "# make sure your filename is the same as how you want to import \n",
        "with open('gen_pattern.py', 'w') as f:\n",
        "  f.write(r.text)\n",
        "\n",
        "with open('svgfig.py', 'w') as f:\n",
        "  f.write(r2.text)"
      ],
      "execution_count": 10,
      "outputs": []
    },
    {
      "cell_type": "markdown",
      "metadata": {
        "id": "8a9nSDMUwwCv"
      },
      "source": [
        "Run ``gen_pattern.py`` with the page size, number of circles, type of pattern, etc."
      ]
    },
    {
      "cell_type": "code",
      "metadata": {
        "colab": {
          "base_uri": "https://localhost:8080/"
        },
        "id": "sLfba_ZPw_Tj",
        "outputId": "c7dc0205-9540-4b43-d165-7aa9267227c2"
      },
      "source": [
        "!head -n20 gen_pattern.py"
      ],
      "execution_count": 13,
      "outputs": [
        {
          "output_type": "stream",
          "text": [
            "#!/usr/bin/env python\n",
            "\n",
            "\"\"\"gen_pattern.py\n",
            "Usage example:\n",
            "python gen_pattern.py -o out.svg -r 11 -c 8 -T circles -s 20.0 -R 5.0 -u mm -w 216 -h 279\n",
            "-o, --output - output file (default out.svg)\n",
            "-r, --rows - pattern rows (default 11)\n",
            "-c, --columns - pattern columns (default 8)\n",
            "-T, --type - type of pattern, circles, acircles, checkerboard (default circles)\n",
            "-s, --square_size - size of squares in pattern (default 20.0)\n",
            "-R, --radius_rate - circles_radius = square_size/radius_rate (default 5.0)\n",
            "-u, --units - mm, inches, px, m (default mm)\n",
            "-w, --page_width - page width in units (default 216)\n",
            "-h, --page_height - page height in units (default 279)\n",
            "-a, --page_size - page size (default A4), supersedes -h -w arguments\n",
            "-H, --help - show help\n",
            "\"\"\"\n",
            "\n",
            "import argparse\n",
            "\n"
          ],
          "name": "stdout"
        }
      ]
    },
    {
      "cell_type": "code",
      "metadata": {
        "id": "H1PqHWyDuqI0"
      },
      "source": [
        "!python gen_pattern.py -o out.svg -r 21 -c 7 -T acircles -s 10 -R 2.5 -u mm -w 216 -h 279"
      ],
      "execution_count": 11,
      "outputs": []
    },
    {
      "cell_type": "markdown",
      "metadata": {
        "id": "yqd4xAD2xYRw"
      },
      "source": [
        "Download out.svg -> import to inkscape -> invert colors to get the white cirlces with black background pattern."
      ]
    }
  ]
}